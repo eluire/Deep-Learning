{
 "cells": [
  {
   "cell_type": "markdown",
   "metadata": {},
   "source": [
    "<h1 align=\"center\"><span style =\"color:black;font-weight:bold\">Install Anaconda on Windows</span> </h1>\n",
    "<p></p><p></p> Youtube tutorial available at: https://www.youtube.com/watch?v=KH2yIk03jFc\n",
    "<p></p> pretty ipython notebook (nicely formated webpage): https://github.com/mGalarnyk/Anaconda_Install_Mac_Ubuntu_Windows/blob/master/Anaconda_Install_Instructions_Windows.ipynb\n",
    "\n",
    "(if link fails try: github.com/mGalarnyk)"
   ]
  },
  {
   "cell_type": "markdown",
   "metadata": {},
   "source": [
    "<span style =\"color:black;font-weight:bold;font-size: 18px;\">Install Gnu on Windows</span>"
   ]
  },
  {
   "cell_type": "markdown",
   "metadata": {},
   "source": [
    "1) Download and install <span style =\"font-weight:bold\"> Gnu on Windows (Gow) </span> from\n",
    "<h5 align=\"center\"> https://github.com/bmatzelle/gow/releases/download/v0.8.0/Gow-0.8.0.exe </h5>\n"
   ]
  },
  {
   "cell_type": "markdown",
   "metadata": {},
   "source": [
    "<span style =\"font-weight:bold;font-size: 18px;\"> Install Anaconda and iPython Notebook</span>"
   ]
  },
  {
   "cell_type": "markdown",
   "metadata": {},
   "source": [
    "1) Download and install Anaconda from \n",
    "<h5 align=\"center\">http://repo.continuum.io/archive/Anaconda-2.3.0-Windows-x86_64.exe </h5>\n",
    "<p></p>\n",
    "Select the default options when prompted during the installation of Anaconda\n",
    "<p></p>2) Restart your computer (to allow for updating)\n",
    "\n",
    "<img src=\"images/anaconda_command_prompt.png\" height=\"220\" width=\"220\">\n",
    "<p></p>3) Open Anaconda Command Prompt\n",
    "<p></p>4) Type the command in red to check Anaconda version \n",
    "<img src=\"images/Anaconda_Command_Prompt_Screen_Shot.png\">\n",
    "<p></p> <span style =\"color:red\"> python --version</span> \n",
    "<p></p><span style =\"color:black;font-weight:bold;font-size:18px;\">Start IPython Notebook</span>\n",
    "<p></p>1) Type the command in red to start iPython Notebook\n",
    "<img src=\"images/LAST.png\">\n",
    "<p></p> <span style =\"color:red;\"> ipython notebook</span>"
   ]
  },
  {
   "cell_type": "markdown",
   "metadata": {},
   "source": [
    "<span style =\"font-weight:bold;font-size: 18px;\">Congrats! You are Done! </span>"
   ]
  }
 ],
 "metadata": {
  "kernelspec": {
   "display_name": "Python 2",
   "language": "python",
   "name": "python2"
  },
  "language_info": {
   "codemirror_mode": {
    "name": "ipython",
    "version": 2
   },
   "file_extension": ".py",
   "mimetype": "text/x-python",
   "name": "python",
   "nbconvert_exporter": "python",
   "pygments_lexer": "ipython2",
   "version": "2.7.11"
  }
 },
 "nbformat": 4,
 "nbformat_minor": 0
}
