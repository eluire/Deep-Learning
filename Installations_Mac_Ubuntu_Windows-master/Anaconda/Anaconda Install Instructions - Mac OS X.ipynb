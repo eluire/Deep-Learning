{
 "cells": [
  {
   "cell_type": "markdown",
   "metadata": {},
   "source": [
    "<h2 align=\"center\"><span style =\"color:black;font-weight:bold\">Install Anaconda on Mac OS X</span> </h2>\n",
    "<p></p><p></p> Youtube tutorial available at: https://www.youtube.com/watch?v=B6d5LrA8bNE"
   ]
  },
  {
   "cell_type": "markdown",
   "metadata": {},
   "source": [
    "1) Open the Terminal by clicking on the Spotlight magnifying glass at the top right of the screen, typing “Terminal” then clicking the Terminal icon."
   ]
  },
  {
   "cell_type": "markdown",
   "metadata": {},
   "source": [
    "2) Type the commands in red to go to the Downloads directory and download Anaconda 2.3.0. Anaconda may take a few minutes to download."
   ]
  },
  {
   "cell_type": "markdown",
   "metadata": {},
   "source": [
    "<span style =\"color:red\"> \n",
    "cd ~/Downloads </span>"
   ]
  },
  {
   "cell_type": "markdown",
   "metadata": {},
   "source": [
    "3) Type the command in red to install Anaconda \n",
    "<p></p><span style =\"color:red\"> bash ./Anaconda-2.3.0-MacOSX-x86_64.sh </span>"
   ]
  },
  {
   "cell_type": "markdown",
   "metadata": {},
   "source": [
    "4) Press <kbd> Enter </kbd> to read the license agreement. Use <kbd> Space </kbd> to continue to the next page. "
   ]
  },
  {
   "cell_type": "markdown",
   "metadata": {},
   "source": [
    "5) Type <b> yes </b> to accept the license terms"
   ]
  },
  {
   "cell_type": "markdown",
   "metadata": {},
   "source": [
    "6) Press <kbd> Enter </kbd> to install Anaconda to the default location."
   ]
  },
  {
   "cell_type": "markdown",
   "metadata": {},
   "source": [
    "7) Type <b> yes </b> to have Anaconda update your PATH.  "
   ]
  },
  {
   "cell_type": "markdown",
   "metadata": {},
   "source": [
    "8) Type <b> source .bash_profile </b> let bash know you have installed anaconda "
   ]
  },
  {
   "cell_type": "markdown",
   "metadata": {},
   "source": [
    "<b>Congrats! You are Done!</b>"
   ]
  },
  {
   "cell_type": "markdown",
   "metadata": {},
   "source": [
    "You can check that Anaconda was installed by pressing the command in red"
   ]
  },
  {
   "cell_type": "markdown",
   "metadata": {},
   "source": [
    "<span style =\"color:red\"> python --version </span>"
   ]
  },
  {
   "cell_type": "markdown",
   "metadata": {},
   "source": [
    "You can type the command in red to update Anaconda"
   ]
  },
  {
   "cell_type": "markdown",
   "metadata": {},
   "source": [
    "<span style =\"color:red\">conda update --all --yes</span>"
   ]
  },
  {
   "cell_type": "code",
   "execution_count": null,
   "metadata": {
    "collapsed": true
   },
   "outputs": [],
   "source": []
  }
 ],
 "metadata": {
  "kernelspec": {
   "display_name": "Python 2",
   "language": "python",
   "name": "python2"
  },
  "language_info": {
   "codemirror_mode": {
    "name": "ipython",
    "version": 2
   },
   "file_extension": ".py",
   "mimetype": "text/x-python",
   "name": "python",
   "nbconvert_exporter": "python",
   "pygments_lexer": "ipython2",
   "version": "2.7.12"
  }
 },
 "nbformat": 4,
 "nbformat_minor": 0
}
