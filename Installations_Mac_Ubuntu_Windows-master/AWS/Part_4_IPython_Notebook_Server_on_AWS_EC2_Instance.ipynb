{
 "cells": [
  {
   "cell_type": "markdown",
   "metadata": {},
   "source": [
    "<h1 align=\"center\"><span style =\"color:black;font-weight:bold\">Getting Started with Amazon Web Services (AWS) EC2: Part 4 Starting a Jupyter Notebook Server on EC2 </span> </h1>\n",
    "\n",
    "This tutorial assumes you have anaconda already installed on your instance. If you don't have it already, please see part 3. \n",
    "<br><br>Follow Along on youtube: https://www.youtube.com/watch?v=YBdYTgwb2OM\n",
    "<br>\n"
   ]
  },
  {
   "cell_type": "markdown",
   "metadata": {},
   "source": [
    "1) ssh to your EC2 instance. \n",
    "\n",
    "ssh -i /path_to_key/my_key.pem user_name@public_dns_name"
   ]
  },
  {
   "cell_type": "markdown",
   "metadata": {},
   "source": [
    "2)\n",
    "\n",
    "<img src=\"images/ipython.png\" height=\"340\" width=\"340\">"
   ]
  },
  {
   "cell_type": "markdown",
   "metadata": {},
   "source": [
    "2a) Type <b>ipython</b> into the terminal. This will open ipython.  "
   ]
  },
  {
   "cell_type": "markdown",
   "metadata": {},
   "source": [
    "2b) The following lines are used for password athentication to the jupyter server we will launch.\n",
    "\n",
    "<b>from IPython.lib import passwd </b>\n",
    "\n",
    "<b>passwd() </b> # this will ask you to enter a password.\n",
    "    "
   ]
  },
  {
   "cell_type": "markdown",
   "metadata": {},
   "source": [
    "2c) After you verify your password, Be sure to save the output. "
   ]
  },
  {
   "cell_type": "markdown",
   "metadata": {},
   "source": [
    "2d) type <b>exit()</b> to exit out of ipython"
   ]
  },
  {
   "cell_type": "markdown",
   "metadata": {
    "collapsed": true
   },
   "source": [
    "3) In the terminal, type <br>\n",
    "<b>jupyter notebook --generate-config </b> <br>\n",
    "<b>mkdir certs</b><br>\n",
    "<b>cd certs</b><br>\n",
    "<b>sudo openssl req -x509 -nodes -days 365 -newkey rsa:1024 -keyout mycert.pem -out mycert.pem</b><br>\n",
    "<b>cd ~/.jupyter/</b><br>\n",
    "<b>nano jupyter_notebook_config.py</b><br>"
   ]
  },
  {
   "cell_type": "markdown",
   "metadata": {},
   "source": [
    "4) Add the following to the top of jupyter_notebook_config.py \n",
    "\n",
    "c = get_config()\n",
    "\n",
    "c.IPKernelApp.pylab = 'inline' <br>\n",
    "c.NotebookApp.certfile = u'/home/ubuntu/certs/mycert.pem' <br>\n",
    "c.NotebookApp.ip = '*' <br>\n",
    "c.NotebookApp.open_browser = False   <br>\n",
    "c.NotebookApp.password = u'sha1:941c93244463:0a28b4a9a472da0dc28e79351660964ab81605ae' <br>\n",
    "c.NotebookApp.port = 8888\n"
   ]
  },
  {
   "cell_type": "markdown",
   "metadata": {},
   "source": [
    "5) exit out of the .py file and type the following into the terminal\n",
    "<b>nohup jupyter notebook</b>"
   ]
  },
  {
   "cell_type": "code",
   "execution_count": 1,
   "metadata": {
    "collapsed": true
   },
   "outputs": [],
   "source": [
    "# 6) Enjoy your server! \n",
    "\n",
    "# https://ip-address:port/"
   ]
  },
  {
   "cell_type": "markdown",
   "metadata": {},
   "source": [
    "If you need help or have any questions, please leave a comment on the youtube video. I will reply quickly. "
   ]
  },
  {
   "cell_type": "markdown",
   "metadata": {},
   "source": [
    "https://www.youtube.com/watch?v=YBdYTgwb2OM"
   ]
  }
 ],
 "metadata": {
  "kernelspec": {
   "display_name": "Python 2",
   "language": "python",
   "name": "python2"
  },
  "language_info": {
   "codemirror_mode": {
    "name": "ipython",
    "version": 2
   },
   "file_extension": ".py",
   "mimetype": "text/x-python",
   "name": "python",
   "nbconvert_exporter": "python",
   "pygments_lexer": "ipython2",
   "version": "2.7.12"
  }
 },
 "nbformat": 4,
 "nbformat_minor": 0
}
