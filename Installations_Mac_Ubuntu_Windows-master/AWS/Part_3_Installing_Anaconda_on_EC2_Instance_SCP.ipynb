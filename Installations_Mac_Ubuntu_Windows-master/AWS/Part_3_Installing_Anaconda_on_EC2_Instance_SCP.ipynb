{
 "cells": [
  {
   "cell_type": "markdown",
   "metadata": {},
   "source": [
    "<h1 align=\"center\"><span style =\"color:black;font-weight:bold\">Getting Started with Amazon Web Services (AWS) EC2: Part 3 Installing Anaconda</span> </h1>\n",
    "<br><br>Follow Along on youtube: https://www.youtube.com/watch?v=l53QjtPvF_A\n",
    "<br> AWS Documentation: http://docs.aws.amazon.com/AWSEC2/latest/UserGuide/AccessingInstancesLinux.html\n",
    "<br> ssh Documentation: http://linux.about.com/od/commands/l/blcmdl1_ssh.htm\n"
   ]
  },
  {
   "cell_type": "markdown",
   "metadata": {},
   "source": [
    "1) Go to Amazon Web Services' Website \n",
    "<h5 align=\"center\"> https://aws.amazon.com </h5>"
   ]
  },
  {
   "cell_type": "markdown",
   "metadata": {},
   "source": [
    "<img src=\"images/1.png\" height=\"340\" width=\"340\">"
   ]
  },
  {
   "cell_type": "markdown",
   "metadata": {},
   "source": [
    "2) Sign in if you have account, if not make one \n",
    "<img src=\"images/2.png\" height=\"340\" width=\"340\">"
   ]
  },
  {
   "cell_type": "markdown",
   "metadata": {},
   "source": [
    "3) Press EC2\n",
    "\n",
    "<img src=\"images/3.png\" height=\"340\" width=\"340\">"
   ]
  },
  {
   "cell_type": "markdown",
   "metadata": {},
   "source": [
    "4) Press Running Instances. If you don't have an instance, see part 1 of the tutorial.\n",
    "\n",
    "<img src=\"images/running_instance.png\" height=\"340\" width=\"340\">"
   ]
  },
  {
   "cell_type": "markdown",
   "metadata": {},
   "source": [
    "5) Select your instance and make sure <b>your key</b> (pem file) matches your <b> key pair name </b>\n",
    "\n",
    "<img src=\"images/key_pair_name.png\" height=\"340\" width=\"340\">"
   ]
  },
  {
   "cell_type": "markdown",
   "metadata": {},
   "source": [
    "6) Use the chmod command to make sure your private key file isn't publicly viewable\n",
    "\n",
    "<span style =\"color:red\"> \n",
    "chmod 400 /path_to_key/my_key.pem </span>"
   ]
  },
  {
   "cell_type": "markdown",
   "metadata": {},
   "source": [
    "7) Download Anaconda locally. I am using an EC2 ubuntu instance so I will download a linux distribution.\n",
    "\n",
    "https://www.continuum.io/downloads"
   ]
  },
  {
   "cell_type": "markdown",
   "metadata": {},
   "source": [
    "8) SCP (Secure Copy Protocol) the downloaded Anaconda sh file over to the EC2 instance\n",
    "\n",
    "scp -i /path/my-key-pair.pem /path/SampleFile.txt user_name@public_dns_name:~ "
   ]
  },
  {
   "cell_type": "markdown",
   "metadata": {},
   "source": [
    "9) ssh to your EC2 instance\n",
    "\n",
    "ssh -i /path_to_key/my_key.pem user_name@public_dns_name"
   ]
  },
  {
   "cell_type": "markdown",
   "metadata": {},
   "source": [
    "<h3 align='Left'> ssh in the youtube video </h3>"
   ]
  },
  {
   "cell_type": "markdown",
   "metadata": {},
   "source": [
    "<img src=\"images/ssh_video.png\" height=\"340\" width=\"340\">"
   ]
  },
  {
   "cell_type": "markdown",
   "metadata": {},
   "source": [
    "10) In EC2 instance terminal, type\n",
    "\n",
    "bash what_Anaconda_you_downloaded_Linux_x86_64.sh "
   ]
  },
  {
   "cell_type": "markdown",
   "metadata": {},
   "source": [
    "11) In EC2 instance terminal, type \n",
    "\n",
    "source .bashrc "
   ]
  },
  {
   "cell_type": "markdown",
   "metadata": {},
   "source": [
    "Done!"
   ]
  },
  {
   "cell_type": "markdown",
   "metadata": {},
   "source": [
    "Part 4 Running an iPython Notebook Server on EC2:"
   ]
  },
  {
   "cell_type": "code",
   "execution_count": null,
   "metadata": {
    "collapsed": true
   },
   "outputs": [],
   "source": []
  }
 ],
 "metadata": {
  "kernelspec": {
   "display_name": "Python 2",
   "language": "python",
   "name": "python2"
  },
  "language_info": {
   "codemirror_mode": {
    "name": "ipython",
    "version": 2
   },
   "file_extension": ".py",
   "mimetype": "text/x-python",
   "name": "python",
   "nbconvert_exporter": "python",
   "pygments_lexer": "ipython2",
   "version": "2.7.12"
  }
 },
 "nbformat": 4,
 "nbformat_minor": 0
}
