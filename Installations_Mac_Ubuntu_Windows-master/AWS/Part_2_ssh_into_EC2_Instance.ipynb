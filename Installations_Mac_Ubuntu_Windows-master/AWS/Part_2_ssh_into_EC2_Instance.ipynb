{
 "cells": [
  {
   "cell_type": "markdown",
   "metadata": {},
   "source": [
    "<h1 align=\"center\"><span style =\"color:black;font-weight:bold\">Getting Started with Amazon Web Services (AWS) EC2: Part 2 ssh into EC2 Instance </span> </h1>\n",
    "<br><br>Follow Along on youtube: https://www.youtube.com/watch?v=l53QjtPvF_A\n",
    "<br> AWS Documentation: http://docs.aws.amazon.com/AWSEC2/latest/UserGuide/AccessingInstancesLinux.html\n",
    "<br> ssh Documentation: http://linux.about.com/od/commands/l/blcmdl1_ssh.htm\n"
   ]
  },
  {
   "cell_type": "markdown",
   "metadata": {},
   "source": [
    "1) Go to Amazon Web Services' Website \n",
    "<h5 align=\"center\"> https://aws.amazon.com </h5>"
   ]
  },
  {
   "cell_type": "markdown",
   "metadata": {},
   "source": [
    "<img src=\"images/1.png\" height=\"340\" width=\"340\">"
   ]
  },
  {
   "cell_type": "markdown",
   "metadata": {},
   "source": [
    "2) Sign in if you have account, if not make one \n",
    "<img src=\"images/2.png\" height=\"340\" width=\"340\">"
   ]
  },
  {
   "cell_type": "markdown",
   "metadata": {},
   "source": [
    "3) Press EC2\n",
    "\n",
    "<img src=\"images/3.png\" height=\"340\" width=\"340\">"
   ]
  },
  {
   "cell_type": "markdown",
   "metadata": {},
   "source": [
    "4) Press Running Instances. If you don't have an instance, see part 1 of the tutorial.\n",
    "\n",
    "<img src=\"images/running_instance.png\" height=\"340\" width=\"340\">"
   ]
  },
  {
   "cell_type": "markdown",
   "metadata": {},
   "source": [
    "5) Select your instance and make sure <b>your key</b> (pem file) matches your <b> key pair name </b>\n",
    "\n",
    "<img src=\"images/key_pair_name.png\" height=\"340\" width=\"340\">"
   ]
  },
  {
   "cell_type": "markdown",
   "metadata": {},
   "source": [
    "6) Use the chmod command to make sure your private key file isn't publicly viewable\n",
    "\n",
    "<span style =\"color:red\"> \n",
    "chmod 400 /path_to_key/my_key.pem </span>"
   ]
  },
  {
   "cell_type": "markdown",
   "metadata": {},
   "source": [
    "7) Finally, ssh to your EC2 instance\n",
    "\n",
    "<span style =\"color:red\"> \n",
    "ssh -i /path_to_key/my_key.pem user_name@public_dns_name </span> <br>"
   ]
  },
  {
   "cell_type": "markdown",
   "metadata": {},
   "source": [
    "<h3 align='Left'> ssh in the youtube video </h3>"
   ]
  },
  {
   "cell_type": "markdown",
   "metadata": {},
   "source": [
    "<img src=\"images/ssh_video.png\" height=\"340\" width=\"340\">"
   ]
  },
  {
   "cell_type": "markdown",
   "metadata": {
    "collapsed": true
   },
   "source": [
    "<h3 align='Left'> Possible usernames (if you aren't sure what your username is) </h3>"
   ]
  },
  {
   "cell_type": "code",
   "execution_count": 14,
   "metadata": {
    "collapsed": false
   },
   "outputs": [
    {
     "data": {
      "text/html": [
       "<div>\n",
       "<table border=\"1\" class=\"dataframe\">\n",
       "  <thead>\n",
       "    <tr style=\"text-align: right;\">\n",
       "      <th></th>\n",
       "      <th>Amazon Machine Image Type</th>\n",
       "      <th>UserName</th>\n",
       "    </tr>\n",
       "  </thead>\n",
       "  <tbody>\n",
       "    <tr>\n",
       "      <th>0</th>\n",
       "      <td>Amazon Linux</td>\n",
       "      <td>ec2-user</td>\n",
       "    </tr>\n",
       "    <tr>\n",
       "      <th>1</th>\n",
       "      <td>RHEL5</td>\n",
       "      <td>root or ec2-user</td>\n",
       "    </tr>\n",
       "    <tr>\n",
       "      <th>2</th>\n",
       "      <td>Ubuntu</td>\n",
       "      <td>ubuntu</td>\n",
       "    </tr>\n",
       "    <tr>\n",
       "      <th>3</th>\n",
       "      <td>Fedora</td>\n",
       "      <td>fedora or ec2-user</td>\n",
       "    </tr>\n",
       "    <tr>\n",
       "      <th>4</th>\n",
       "      <td>SUSE Linux</td>\n",
       "      <td>root or ec2-user</td>\n",
       "    </tr>\n",
       "  </tbody>\n",
       "</table>\n",
       "</div>"
      ],
      "text/plain": [
       "  Amazon Machine Image Type            UserName\n",
       "0              Amazon Linux            ec2-user\n",
       "1                     RHEL5    root or ec2-user\n",
       "2                    Ubuntu              ubuntu\n",
       "3                    Fedora  fedora or ec2-user\n",
       "4                SUSE Linux    root or ec2-user"
      ]
     },
     "execution_count": 14,
     "metadata": {},
     "output_type": "execute_result"
    }
   ],
   "source": [
    "import pandas as pd\n",
    "\n",
    "pd.DataFrame(data = [['Amazon Linux','ec2-user'],['RHEL5', 'root or ec2-user'], ['Ubuntu','ubuntu'], ['Fedora', 'fedora or ec2-user'], ['SUSE Linux', 'root or ec2-user']], columns = ['Amazon Machine Image Type', 'UserName'])"
   ]
  },
  {
   "cell_type": "markdown",
   "metadata": {},
   "source": [
    "\n",
    "<br><br>Part 3 is how to install anaconda on EC2:"
   ]
  }
 ],
 "metadata": {
  "kernelspec": {
   "display_name": "Python 2",
   "language": "python",
   "name": "python2"
  },
  "language_info": {
   "codemirror_mode": {
    "name": "ipython",
    "version": 2
   },
   "file_extension": ".py",
   "mimetype": "text/x-python",
   "name": "python",
   "nbconvert_exporter": "python",
   "pygments_lexer": "ipython2",
   "version": "2.7.12"
  }
 },
 "nbformat": 4,
 "nbformat_minor": 0
}
