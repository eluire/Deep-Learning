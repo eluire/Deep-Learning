{
 "cells": [
  {
   "cell_type": "markdown",
   "metadata": {},
   "source": [
    "<h1 align=\"center\"><span style =\"color:black;font-weight:bold\">Install PySpark on Mac </span> </h1>\n",
    "<p></p><p></p>Youtube tutorial available at: https://www.youtube.com/watch?v=I5JtvpyM14U\n",
    "<p></p><p></p>Updated Blog Post available at: https://medium.com/@GalarnykMichael/install-spark-on-mac-pyspark-453f395f240b"
   ]
  },
  {
   "cell_type": "markdown",
   "metadata": {},
   "source": [
    "<span style =\"color:black;font-weight:bold;font-size: 18px;\">Download Spark</span>"
   ]
  },
  {
   "cell_type": "markdown",
   "metadata": {},
   "source": [
    "1) Go to the Apache Sparks. \n",
    "<h5 align=\"center\"> http://spark.apache.org/downloads.html </h5>"
   ]
  },
  {
   "cell_type": "markdown",
   "metadata": {},
   "source": [
    "<img src=\"images/Download.png\" height=\"340\" width=\"340\">"
   ]
  },
  {
   "cell_type": "markdown",
   "metadata": {},
   "source": [
    "<ul> \n",
    "    <li> a) Choose a Spark release (I prefer 1.6.0)</li>\n",
    "    <li> b) Choose a package type: (this installation prefers \"Pre-built for Hadoop 2.6 and later\")</li> \n",
    "    <li> c) Choose a download type: (Direct Download) </li>\n",
    "    <li> d) Download Spark: \n",
    "    <a href=\"http://d3kbcqa49mib13.cloudfront.net/spark-1.6.0-bin-hadoop2.6.tgz\" onclick=\"trackOutboundLink(this, 'Release Download Links', 'direct_spark-1.6.0-bin-hadoop2.6.tgz'); return false;\">spark-1.6.0-bin-hadoop2.6.tgz</a></li> (you can click on this or go to http://spark.apache.org/downloads.html to choose your own Spark Version. \n",
    "</ul>"
   ]
  },
  {
   "cell_type": "markdown",
   "metadata": {},
   "source": [
    "2) Make sure you have java installed on your machine."
   ]
  },
  {
   "cell_type": "markdown",
   "metadata": {},
   "source": [
    "3) Go to your home directory. (You can use the command in red)\n",
    "\n",
    "<span style =\"color:red;\"> cd ~ </span>"
   ]
  },
  {
   "cell_type": "markdown",
   "metadata": {},
   "source": [
    "4) Unzip the folder in your home directory using the following command. \n",
    "\n",
    "<span style =\"color:red;\"> tar -zxvf spark-1.6.0-bin-hadoop2.6.tgz </span>"
   ]
  },
  {
   "cell_type": "markdown",
   "metadata": {},
   "source": [
    "5) Use the following command to see that you have a .bash_profile \n",
    "\n",
    "<span style =\"color:red;\"> ls -a </span>"
   ]
  },
  {
   "cell_type": "markdown",
   "metadata": {},
   "source": [
    "6) Next, we will edit our .bash_profile so we can open a spark notebook in any directory.\n",
    "\n",
    "<span style =\"color:red;\"> nano .bash_profile </span>"
   ]
  },
  {
   "cell_type": "markdown",
   "metadata": {},
   "source": [
    "<img src=\"images/bash_profile.png\" height=\"340\" width=\"340\">"
   ]
  },
  {
   "cell_type": "markdown",
   "metadata": {},
   "source": [
    "7) Don't remove anything in your .bash_profile. Only add <br>\n",
    "\n",
    "#setting path for spark <br>\n",
    "<span style =\"color:red;\">\n",
    "export SPARK_PATH=~/spark-1.6.0-bin-hadoop2.6 <br>\n",
    "export PYSPARK_DRIVER_PYTHON=\"jupyter\" <br>\n",
    "export PYSPARK_DRIVER_PYTHON_OPTS=\"notebook\" <br>\n",
    "alias snotebook='$SPARK_PATH/bin/pyspark --master local[2]' </span>"
   ]
  },
  {
   "cell_type": "markdown",
   "metadata": {},
   "source": [
    "<span style =\"color:black;font-weight:bold;font-size: 18px;\">Notes</span>"
   ]
  },
  {
   "cell_type": "markdown",
   "metadata": {},
   "source": [
    "The PYSPARK_DRIVER_PYTHON parameter and the PYSPARK_DRIVER_PYTHON_OPTS parameter are used to launch the PySpark shell in Jupyter Notebook. The --master parameter is used for setting the master node address. Here we launch Spark locally on 2 cores for local testing."
   ]
  },
  {
   "cell_type": "markdown",
   "metadata": {},
   "source": [
    "<span style =\"color:black;font-weight:bold;font-size: 18px;\">For Python 3 Users</span>"
   ]
  },
  {
   "cell_type": "markdown",
   "metadata": {},
   "source": [
    "<img src=\"images/Python3.png\" height=\"340\" width=\"340\">"
   ]
  },
  {
   "cell_type": "markdown",
   "metadata": {},
   "source": [
    "You have to add the line in red before you use alias snotebook='$SPARK_PATH/bin/pyspark --master local[2]' line or you will get the error in the image above. \n",
    "<span style =\"color:red;\"> <br>\n",
    "export PYSPARK_PYTHON=python3\n",
    "</span>"
   ]
  },
  {
   "cell_type": "markdown",
   "metadata": {},
   "source": [
    "<span style =\"color:black;font-weight:bold;font-size: 18px;\">Other useful PySpark tutorials</span>"
   ]
  },
  {
   "cell_type": "markdown",
   "metadata": {},
   "source": [
    "https://www.dataquest.io/blog/installing-pyspark/"
   ]
  }
 ],
 "metadata": {
  "kernelspec": {
   "display_name": "Python 2",
   "language": "python",
   "name": "python2"
  },
  "language_info": {
   "codemirror_mode": {
    "name": "ipython",
    "version": 2
   },
   "file_extension": ".py",
   "mimetype": "text/x-python",
   "name": "python",
   "nbconvert_exporter": "python",
   "pygments_lexer": "ipython2",
   "version": "2.7.13"
  }
 },
 "nbformat": 4,
 "nbformat_minor": 0
}
