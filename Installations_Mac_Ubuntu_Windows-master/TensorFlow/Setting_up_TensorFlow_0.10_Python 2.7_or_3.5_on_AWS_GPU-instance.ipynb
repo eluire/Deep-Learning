{
 "cells": [
  {
   "cell_type": "markdown",
   "metadata": {},
   "source": [
    "<h1 align=\"center\"><span style =\"color:black;font-weight:bold\">Setting up TensorFlow 0.10 with Python 2.7 OR 3.5 on AWS GPU-instance\n",
    " </span> </h1>\n",
    "\n",
    "\n",
    "<br><br>Follow Along on youtube: https://www.youtube.com/watch?v=IvPTA-joTA8\n",
    "<br>\n"
   ]
  },
  {
   "cell_type": "markdown",
   "metadata": {},
   "source": [
    "1) ssh to your EC2 instance. \n",
    "\n",
    "ssh -i /path_to_key/my_key.pem user_name@public_dns_name"
   ]
  },
  {
   "cell_type": "markdown",
   "metadata": {},
   "source": [
    "<span style =\"color:black;font-weight:bold;font-size: 18px;\">Python 2.7</span> "
   ]
  },
  {
   "cell_type": "markdown",
   "metadata": {},
   "source": [
    "https://github.com/mGalarnyk/Installations_Mac_Ubuntu_Windows/blob/master/TensorFlow/Python2.7_setup_aws_tensorflow.bash"
   ]
  },
  {
   "cell_type": "code",
   "execution_count": 2,
   "metadata": {
    "collapsed": true
   },
   "outputs": [],
   "source": [
    "# wget https://raw.githubusercontent.com/mGalarnyk/Installations_Mac_Ubuntu_Windows/master/TensorFlow/Python2.7_setup_aws_tensorflow.bash\n",
    "\n",
    "# bash Python2.7_setup_aws_tensorflow.bash"
   ]
  },
  {
   "cell_type": "markdown",
   "metadata": {
    "collapsed": true
   },
   "source": [
    "<span style =\"color:black;font-weight:bold;font-size: 18px;\">Python 3.5</span>\n"
   ]
  },
  {
   "cell_type": "markdown",
   "metadata": {},
   "source": [
    "https://github.com/mGalarnyk/Installations_Mac_Ubuntu_Windows/blob/master/TensorFlow/Python3.5_setup_aws_tensorflow.bash"
   ]
  },
  {
   "cell_type": "code",
   "execution_count": 1,
   "metadata": {
    "collapsed": true
   },
   "outputs": [],
   "source": [
    "# wget https://raw.githubusercontent.com/mGalarnyk/Installations_Mac_Ubuntu_Windows/master/TensorFlow/Python3.5_setup_aws_tensorflow.bash\n",
    "\n",
    "# bash Python3.5_setup_aws_tensorflow.bash"
   ]
  },
  {
   "cell_type": "markdown",
   "metadata": {},
   "source": [
    "<span style =\"color:black;font-weight:bold;font-size: 18px;\">Useful Blog Post</span>"
   ]
  },
  {
   "cell_type": "markdown",
   "metadata": {},
   "source": [
    "http://max-likelihood.com/2016/06/18/aws-tensorflow-setup/"
   ]
  },
  {
   "cell_type": "markdown",
   "metadata": {},
   "source": [
    "<span style =\"color:black;font-weight:bold;font-size: 18px;\">Public AMIs</span>"
   ]
  },
  {
   "cell_type": "code",
   "execution_count": 6,
   "metadata": {
    "collapsed": false
   },
   "outputs": [
    {
     "data": {
      "text/html": [
       "<div>\n",
       "<table border=\"1\" class=\"dataframe\">\n",
       "  <thead>\n",
       "    <tr style=\"text-align: right;\">\n",
       "      <th></th>\n",
       "      <th>Region</th>\n",
       "      <th>AMI Name</th>\n",
       "      <th>AMI ID</th>\n",
       "    </tr>\n",
       "  </thead>\n",
       "  <tbody>\n",
       "    <tr>\n",
       "      <th>0</th>\n",
       "      <td>N.Virginia</td>\n",
       "      <td>TensorFlow0.10_conda_4.1.6_awsCLI</td>\n",
       "      <td>ami-cc592bdb</td>\n",
       "    </tr>\n",
       "  </tbody>\n",
       "</table>\n",
       "</div>"
      ],
      "text/plain": [
       "       Region                           AMI Name        AMI ID\n",
       "0  N.Virginia  TensorFlow0.10_conda_4.1.6_awsCLI  ami-cc592bdb"
      ]
     },
     "execution_count": 6,
     "metadata": {},
     "output_type": "execute_result"
    }
   ],
   "source": [
    "# Let me know if you want a tensorflow AMI in any region. \n",
    "# Let me know if you have made your own AMI and I will add it to the table\n",
    "import pandas as pd\n",
    "\n",
    "pd.DataFrame(data = [['N.Virginia','TensorFlow0.10_conda_4.1.6_awsCLI', 'ami-cc592bdb']],\n",
    "             columns = ['Region', 'AMI Name', 'AMI ID'])\n"
   ]
  }
 ],
 "metadata": {
  "kernelspec": {
   "display_name": "Python 2",
   "language": "python",
   "name": "python2"
  },
  "language_info": {
   "codemirror_mode": {
    "name": "ipython",
    "version": 2
   },
   "file_extension": ".py",
   "mimetype": "text/x-python",
   "name": "python",
   "nbconvert_exporter": "python",
   "pygments_lexer": "ipython2",
   "version": "2.7.12"
  }
 },
 "nbformat": 4,
 "nbformat_minor": 0
}
