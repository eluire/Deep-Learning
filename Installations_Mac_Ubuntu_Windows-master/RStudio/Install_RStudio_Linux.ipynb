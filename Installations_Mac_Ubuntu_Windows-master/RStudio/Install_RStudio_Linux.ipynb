{
 "cells": [
  {
   "cell_type": "markdown",
   "metadata": {},
   "source": [
    "<h1 align=\"center\"><span style =\"color:black;font-weight:bold\">Install R + RStudio on Ubuntu 12.04/14.04/16.04 </span> </h1>"
   ]
  },
  {
   "cell_type": "markdown",
   "metadata": {},
   "source": [
    "Youtube tutorial Install PySpark on Linux available at: "
   ]
  },
  {
   "cell_type": "markdown",
   "metadata": {},
   "source": [
    "1) Get the Latest R Version and Install It\n",
    "\n",
    "<span style =\"color:red;\"> sudo apt-key adv –keyserver keyserver.ubuntu.com –recv-keys E084DAB9 </span>\n",
    "\n",
    "<span style =\"color:red;\"> sudo add-apt-repository ‘deb https://ftp.ussg.iu.edu/CRAN/bin/linux/ubuntu precise/’ </span>\n",
    "\n",
    "<span style =\"color:red;\"> sudo apt-get update </span>\n",
    "\n",
    "<span style =\"color:red;\"> sudo apt-get install r-base </span>\n",
    "\n",
    "<span style =\"color:red;\"> sudo apt-get install r-base-dev </span>\n"
   ]
  },
  {
   "cell_type": "markdown",
   "metadata": {},
   "source": [
    "<span style =\"color:black;font-weight:bold;font-size: 18px;\"> What Changes between Ubuntu 12.04, 14.04, and 16.04? </span>\n",
    "\n",
    "The line changes depending on the ubuntu version. The line below is for ubuntu 12.04.\n",
    "\n",
    "sudo add-apt-repository ‘deb https://ftp.ussg.iu.edu/CRAN/bin/linux/ubuntu precise/’\n",
    "\n",
    "Ubuntu 12.04: precise\n",
    "\n",
    "Ubuntu 14.04: trusty\n",
    "\n",
    "Ubuntu 16.04: xenial\n",
    "\n",
    "What you set your CRAN mirror to: https://cran.r-project.org/mirrors.html\n"
   ]
  },
  {
   "cell_type": "markdown",
   "metadata": {},
   "source": [
    "2) Download and install RStudio (gdebi is used since it installs the .deb file and all of its dependencies) \n",
    "\n",
    "<span style =\"color:red;\"> sudo apt-get install gdebi-core </span>\n",
    "\n",
    "<span style =\"color:red;\"> wget https://download1.rstudio.org/rstudio-1.0.44-amd64.deb </span>\n",
    "\n",
    "<span style =\"color:red;\"> sudo gdebi rstudio-1.0.44-amd64.deb </span>\n",
    "\n",
    "<span style =\"color:red;\"> rm rstudio-1.0.44-amd64.deb </span>\n",
    "\n"
   ]
  },
  {
   "cell_type": "markdown",
   "metadata": {},
   "source": [
    "3) Check if Installation works by Opening RStudio and typing the command in red\n",
    "\n",
    "<span style =\"color:red;\"> install.packages(\"data.table\") </span>\n",
    "\n",
    "\n",
    "\n"
   ]
  },
  {
   "cell_type": "markdown",
   "metadata": {},
   "source": [
    "<span style =\"color:black;font-weight:bold;font-size: 18px;\">Testing the Installation </span>"
   ]
  },
  {
   "cell_type": "markdown",
   "metadata": {},
   "source": [
    "<img src=\"images/bashrc.png\" height=\"340\" width=\"340\">"
   ]
  },
  {
   "cell_type": "code",
   "execution_count": null,
   "metadata": {
    "collapsed": true
   },
   "outputs": [],
   "source": []
  }
 ],
 "metadata": {
  "anaconda-cloud": {},
  "kernelspec": {
   "display_name": "Python 2",
   "language": "python",
   "name": "python2"
  },
  "language_info": {
   "codemirror_mode": {
    "name": "ipython",
    "version": 2
   },
   "file_extension": ".py",
   "mimetype": "text/x-python",
   "name": "python",
   "nbconvert_exporter": "python",
   "pygments_lexer": "ipython2",
   "version": "2.7.11"
  }
 },
 "nbformat": 4,
 "nbformat_minor": 0
}
